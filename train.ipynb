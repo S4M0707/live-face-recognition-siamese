{
 "cells": [
  {
   "cell_type": "code",
   "execution_count": 1,
   "metadata": {},
   "outputs": [],
   "source": [
    "import cv2\n",
    "import os\n",
    "import numpy as np\n",
    "import itertools\n",
    "from matplotlib import pyplot as plt"
   ]
  },
  {
   "cell_type": "code",
   "execution_count": 2,
   "metadata": {},
   "outputs": [
    {
     "name": "stderr",
     "output_type": "stream",
     "text": [
      "2023-11-20 16:36:26.236243: I tensorflow/core/platform/cpu_feature_guard.cc:182] This TensorFlow binary is optimized to use available CPU instructions in performance-critical operations.\n",
      "To enable the following instructions: AVX2 FMA, in other operations, rebuild TensorFlow with the appropriate compiler flags.\n",
      "2023-11-20 16:36:26.787711: W tensorflow/compiler/tf2tensorrt/utils/py_utils.cc:38] TF-TRT Warning: Could not find TensorRT\n"
     ]
    }
   ],
   "source": [
    "import tensorflow as tf\n",
    "from tensorflow import keras"
   ]
  },
  {
   "cell_type": "markdown",
   "metadata": {},
   "source": [
    "# 1. Dataset"
   ]
  },
  {
   "cell_type": "code",
   "execution_count": 3,
   "metadata": {},
   "outputs": [],
   "source": [
    "data_path = os.path.join('face_dataset')"
   ]
  },
  {
   "cell_type": "code",
   "execution_count": 4,
   "metadata": {},
   "outputs": [],
   "source": [
    "IMG_SIZE = 128\n",
    "BUFFER_SIZE = 123\n",
    "BATCH_SIZE = 32"
   ]
  },
  {
   "cell_type": "code",
   "execution_count": 5,
   "metadata": {},
   "outputs": [],
   "source": [
    "def create_data_pairs(dataset_path):\n",
    "    def create_positive_pairs(dataset_path):\n",
    "        positive_pairs = []\n",
    "        for person_folder in os.listdir(dataset_path):\n",
    "            images = os.listdir(os.path.join(dataset_path, person_folder))\n",
    "            pairs = list(itertools.combinations(images, 2))\n",
    "            positive_pairs.extend([(person_folder, pair[0], person_folder, pair[1]) for pair in pairs])\n",
    "        return np.array(positive_pairs)\n",
    "    \n",
    "    def create_negative_pairs(dataset_path, positive_pairs):\n",
    "        negative_pairs = []\n",
    "        len_list = []\n",
    "        for i in range(104):\n",
    "            len_list.append(len(os.listdir(os.path.join(dataset_path, 'person_' + str(i)))))\n",
    "\n",
    "        for i in range(len(positive_pairs)):\n",
    "            person_1, img_1, _, _ = positive_pairs[i]\n",
    "\n",
    "            person_2 = 'person_' + str(np.random.randint(0, 104))\n",
    "            while person_2 == person_1:\n",
    "                person_2 = 'person_' + str(np.random.randint(0, 104))\n",
    "\n",
    "            img_2 = 'img_' + str(np.random.randint(0, len_list[int(person_2.split('_')[-1])]))\n",
    "            negative_pairs.append((person_1, img_1, person_2, img_2))\n",
    "        return np.array(negative_pairs)\n",
    "    \n",
    "    positive = create_positive_pairs(dataset_path)\n",
    "    negative = create_negative_pairs(dataset_path, positive)\n",
    "    data_pairs = np.concatenate((positive, negative), axis=0)\n",
    "    np.random.shuffle(data_pairs)\n",
    "    return data_pairs"
   ]
  },
  {
   "cell_type": "code",
   "execution_count": 6,
   "metadata": {},
   "outputs": [],
   "source": [
    "def load_and_preprocess_image(image_path):\n",
    "    byte_img = tf.io.read_file(image_path)\n",
    "    img = tf.io.decode_jpeg(byte_img)\n",
    "    img = tf.image.resize(img, (IMG_SIZE, IMG_SIZE))\n",
    "    img = img / 255.0\n",
    "    return img"
   ]
  },
  {
   "cell_type": "code",
   "execution_count": 7,
   "metadata": {},
   "outputs": [],
   "source": [
    "def preprocess_and_create_example(person_1, img_1, person_2, img_2, dataset_path):\n",
    "    image_1 = load_and_preprocess_image(os.path.join(dataset_path, person_1, img_1))\n",
    "    image_2 = load_and_preprocess_image(os.path.join(dataset_path, person_2, img_2))\n",
    "    \n",
    "    label = int(person_1 == person_2)\n",
    "    \n",
    "    return image_1, image_2, label"
   ]
  },
  {
   "cell_type": "code",
   "execution_count": 8,
   "metadata": {},
   "outputs": [],
   "source": [
    "def create_dataset(dataset_path):\n",
    "    data_pairs = create_data_pairs(data_path)\n",
    "    len_dataset = len(data_pairs)\n",
    "\n",
    "    def generator():\n",
    "        for person_1, img_1, person_2, img_2 in data_pairs:\n",
    "            yield preprocess_and_create_example(person_1, img_1, person_2, img_2, dataset_path)\n",
    "\n",
    "    output_signature = (\n",
    "        tf.TensorSpec(shape=(IMG_SIZE, IMG_SIZE, 3), dtype=tf.float32),\n",
    "        tf.TensorSpec(shape=(IMG_SIZE, IMG_SIZE, 3), dtype=tf.float32),\n",
    "        tf.TensorSpec(shape=(), dtype=tf.int32)\n",
    "    )\n",
    "\n",
    "    tf_dataset = tf.data.Dataset.from_generator(generator, output_signature=output_signature)\n",
    "    return tf_dataset, len_dataset"
   ]
  },
  {
   "cell_type": "code",
   "execution_count": 9,
   "metadata": {},
   "outputs": [
    {
     "name": "stderr",
     "output_type": "stream",
     "text": [
      "2023-11-20 16:37:32.391551: I tensorflow/compiler/xla/stream_executor/cuda/cuda_gpu_executor.cc:995] successful NUMA node read from SysFS had negative value (-1), but there must be at least one NUMA node, so returning NUMA node zero. See more at https://github.com/torvalds/linux/blob/v6.0/Documentation/ABI/testing/sysfs-bus-pci#L344-L355\n",
      "2023-11-20 16:37:32.425543: I tensorflow/compiler/xla/stream_executor/cuda/cuda_gpu_executor.cc:995] successful NUMA node read from SysFS had negative value (-1), but there must be at least one NUMA node, so returning NUMA node zero. See more at https://github.com/torvalds/linux/blob/v6.0/Documentation/ABI/testing/sysfs-bus-pci#L344-L355\n",
      "2023-11-20 16:37:32.425891: I tensorflow/compiler/xla/stream_executor/cuda/cuda_gpu_executor.cc:995] successful NUMA node read from SysFS had negative value (-1), but there must be at least one NUMA node, so returning NUMA node zero. See more at https://github.com/torvalds/linux/blob/v6.0/Documentation/ABI/testing/sysfs-bus-pci#L344-L355\n",
      "2023-11-20 16:37:32.426800: I tensorflow/compiler/xla/stream_executor/cuda/cuda_gpu_executor.cc:995] successful NUMA node read from SysFS had negative value (-1), but there must be at least one NUMA node, so returning NUMA node zero. See more at https://github.com/torvalds/linux/blob/v6.0/Documentation/ABI/testing/sysfs-bus-pci#L344-L355\n",
      "2023-11-20 16:37:32.427081: I tensorflow/compiler/xla/stream_executor/cuda/cuda_gpu_executor.cc:995] successful NUMA node read from SysFS had negative value (-1), but there must be at least one NUMA node, so returning NUMA node zero. See more at https://github.com/torvalds/linux/blob/v6.0/Documentation/ABI/testing/sysfs-bus-pci#L344-L355\n",
      "2023-11-20 16:37:32.427380: I tensorflow/compiler/xla/stream_executor/cuda/cuda_gpu_executor.cc:995] successful NUMA node read from SysFS had negative value (-1), but there must be at least one NUMA node, so returning NUMA node zero. See more at https://github.com/torvalds/linux/blob/v6.0/Documentation/ABI/testing/sysfs-bus-pci#L344-L355\n",
      "2023-11-20 16:37:32.930323: I tensorflow/compiler/xla/stream_executor/cuda/cuda_gpu_executor.cc:995] successful NUMA node read from SysFS had negative value (-1), but there must be at least one NUMA node, so returning NUMA node zero. See more at https://github.com/torvalds/linux/blob/v6.0/Documentation/ABI/testing/sysfs-bus-pci#L344-L355\n",
      "2023-11-20 16:37:32.930519: I tensorflow/compiler/xla/stream_executor/cuda/cuda_gpu_executor.cc:995] successful NUMA node read from SysFS had negative value (-1), but there must be at least one NUMA node, so returning NUMA node zero. See more at https://github.com/torvalds/linux/blob/v6.0/Documentation/ABI/testing/sysfs-bus-pci#L344-L355\n",
      "2023-11-20 16:37:32.930670: I tensorflow/compiler/xla/stream_executor/cuda/cuda_gpu_executor.cc:995] successful NUMA node read from SysFS had negative value (-1), but there must be at least one NUMA node, so returning NUMA node zero. See more at https://github.com/torvalds/linux/blob/v6.0/Documentation/ABI/testing/sysfs-bus-pci#L344-L355\n",
      "2023-11-20 16:37:32.930798: I tensorflow/core/common_runtime/gpu/gpu_device.cc:1639] Created device /job:localhost/replica:0/task:0/device:GPU:0 with 2560 MB memory:  -> device: 0, name: NVIDIA GeForce GTX 1650, pci bus id: 0000:01:00.0, compute capability: 7.5\n"
     ]
    }
   ],
   "source": [
    "dataset, dataset_size = create_dataset(data_path)"
   ]
  },
  {
   "cell_type": "code",
   "execution_count": 10,
   "metadata": {
    "scrolled": true
   },
   "outputs": [
    {
     "name": "stdout",
     "output_type": "stream",
     "text": [
      "(<tf.Tensor: shape=(128, 128, 3), dtype=float32, numpy=\n",
      "array([[[0.97340685, 0.92242646, 0.9577206 ],\n",
      "        [0.9687069 , 0.9177265 , 0.95302063],\n",
      "        [0.97793067, 0.9269503 , 0.9622444 ],\n",
      "        ...,\n",
      "        [0.19522059, 0.11839288, 0.110499  ],\n",
      "        [0.12360888, 0.04895163, 0.05626819],\n",
      "        [0.10823951, 0.0337297 , 0.04941598]],\n",
      "\n",
      "       [[0.9688907 , 0.91791034, 0.95320445],\n",
      "        [0.9588848 , 0.9079044 , 0.9431985 ],\n",
      "        [0.9689654 , 0.917985  , 0.95327914],\n",
      "        ...,\n",
      "        [0.24471028, 0.17032112, 0.1441885 ],\n",
      "        [0.19966586, 0.12559839, 0.13870443],\n",
      "        [0.12422832, 0.05946117, 0.07189989]],\n",
      "\n",
      "       [[0.976327  , 0.9253466 , 0.9606407 ],\n",
      "        [0.9803309 , 0.9293505 , 0.9646446 ],\n",
      "        [0.9801911 , 0.9292107 , 0.96450484],\n",
      "        ...,\n",
      "        [0.19326842, 0.11822438, 0.09615694],\n",
      "        [0.21691942, 0.12806948, 0.15539981],\n",
      "        [0.16164024, 0.07673483, 0.09761891]],\n",
      "\n",
      "       ...,\n",
      "\n",
      "       [[0.8443206 , 0.4600069 , 0.6525314 ],\n",
      "        [0.84684724, 0.46124867, 0.6544156 ],\n",
      "        [0.8513567 , 0.45956743, 0.65582967],\n",
      "        ...,\n",
      "        [0.6972953 , 0.2926643 , 0.22799383],\n",
      "        [0.6865493 , 0.28244388, 0.22472331],\n",
      "        [0.67262083, 0.26796398, 0.2104272 ]],\n",
      "\n",
      "       [[0.88659906, 0.50228536, 0.70228535],\n",
      "        [0.85949755, 0.47843137, 0.6784314 ],\n",
      "        [0.885207  , 0.5010455 , 0.7010455 ],\n",
      "        ...,\n",
      "        [0.6893402 , 0.26703623, 0.25141314],\n",
      "        [0.6800044 , 0.26353496, 0.2379835 ],\n",
      "        [0.71218693, 0.286084  , 0.2644541 ]],\n",
      "\n",
      "       [[0.8657724 , 0.48145872, 0.6814587 ],\n",
      "        [0.877383  , 0.49699086, 0.69699085],\n",
      "        [0.86753315, 0.48340324, 0.68340325],\n",
      "        ...,\n",
      "        [0.6717103 , 0.24818091, 0.2364162 ],\n",
      "        [0.6801107 , 0.25658128, 0.24481656],\n",
      "        [0.70050454, 0.2730536 , 0.26128888]]], dtype=float32)>, <tf.Tensor: shape=(128, 128, 3), dtype=float32, numpy=\n",
      "array([[[0.09065564, 0.09849878, 0.08673407],\n",
      "        [0.10067402, 0.10851716, 0.09675245],\n",
      "        [0.09261642, 0.10045956, 0.08869486],\n",
      "        ...,\n",
      "        [0.91879594, 0.8129136 , 0.76977634],\n",
      "        [0.9146599 , 0.8087776 , 0.7656403 ],\n",
      "        [0.9139706 , 0.80808824, 0.764951  ]],\n",
      "\n",
      "       [[0.08583027, 0.09367341, 0.0819087 ],\n",
      "        [0.09240196, 0.1002451 , 0.08848039],\n",
      "        [0.10341606, 0.11125919, 0.09949449],\n",
      "        ...,\n",
      "        [0.9169118 , 0.81102943, 0.7678922 ],\n",
      "        [0.9169118 , 0.81102943, 0.7678922 ],\n",
      "        [0.9169118 , 0.81102943, 0.7678922 ]],\n",
      "\n",
      "       [[0.0865962 , 0.09443934, 0.08267463],\n",
      "        [0.0963848 , 0.10422794, 0.09246323],\n",
      "        [0.101731  , 0.10957414, 0.09780943],\n",
      "        ...,\n",
      "        [0.9153339 , 0.8094516 , 0.7663143 ],\n",
      "        [0.9139553 , 0.8080729 , 0.7649357 ],\n",
      "        [0.9125766 , 0.80669427, 0.76355696]],\n",
      "\n",
      "       ...,\n",
      "\n",
      "       [[0.5963848 , 0.4708946 , 0.3728554 ],\n",
      "        [0.57354474, 0.4485141 , 0.35171568],\n",
      "        [0.5380668 , 0.4167126 , 0.32444853],\n",
      "        ...,\n",
      "        [0.99961704, 0.99961704, 0.9917739 ],\n",
      "        [1.        , 1.        , 0.99215686],\n",
      "        [0.9988511 , 0.9988511 , 0.991008  ]],\n",
      "\n",
      "       [[0.60729164, 0.47582722, 0.37778798],\n",
      "        [0.5681372 , 0.44264707, 0.34607843],\n",
      "        [0.5348039 , 0.4117647 , 0.32034314],\n",
      "        ...,\n",
      "        [1.        , 1.        , 0.9857843 ],\n",
      "        [1.        , 1.        , 0.990962  ],\n",
      "        [1.        , 1.        , 0.99215686]],\n",
      "\n",
      "       [[0.6028799 , 0.4695772 , 0.37153798],\n",
      "        [0.57406557, 0.4426011 , 0.34603247],\n",
      "        [0.5400429 , 0.41470587, 0.3244332 ],\n",
      "        ...,\n",
      "        [1.        , 1.        , 0.9843137 ],\n",
      "        [1.        , 1.        , 0.9906863 ],\n",
      "        [1.        , 1.        , 0.99215686]]], dtype=float32)>, <tf.Tensor: shape=(), dtype=int32, numpy=1>)\n"
     ]
    }
   ],
   "source": [
    "for x in dataset.take(1):\n",
    "    print(x)"
   ]
  },
  {
   "cell_type": "code",
   "execution_count": 11,
   "metadata": {},
   "outputs": [],
   "source": [
    "train = dataset.take(int(0.9 * dataset_size))\n",
    "dev = dataset.skip(int(0.9 * dataset_size)).take(int(0.05 * dataset_size))\n",
    "test = dataset.skip(int(0.9 * dataset_size)).skip(int(0.05 * dataset_size))"
   ]
  },
  {
   "cell_type": "code",
   "execution_count": 12,
   "metadata": {},
   "outputs": [],
   "source": [
    "train = train.shuffle(BUFFER_SIZE)\n",
    "dev = dev.shuffle(BUFFER_SIZE)"
   ]
  },
  {
   "cell_type": "code",
   "execution_count": 13,
   "metadata": {},
   "outputs": [],
   "source": [
    "train = train.batch(BATCH_SIZE).cache().prefetch(tf.data.AUTOTUNE)\n",
    "dev = dev.batch(BATCH_SIZE).prefetch(tf.data.AUTOTUNE)\n",
    "test = test.batch(BATCH_SIZE)"
   ]
  }
 ],
 "metadata": {
  "kernelspec": {
   "display_name": "Python 3 (ipykernel)",
   "language": "python",
   "name": "python3"
  },
  "language_info": {
   "codemirror_mode": {
    "name": "ipython",
    "version": 3
   },
   "file_extension": ".py",
   "mimetype": "text/x-python",
   "name": "python",
   "nbconvert_exporter": "python",
   "pygments_lexer": "ipython3",
   "version": "3.9.18"
  }
 },
 "nbformat": 4,
 "nbformat_minor": 4
}
