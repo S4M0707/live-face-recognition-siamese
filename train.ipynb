{
 "cells": [
  {
   "cell_type": "code",
   "execution_count": 1,
   "metadata": {},
   "outputs": [],
   "source": [
    "import cv2\n",
    "import os\n",
    "import numpy as np\n",
    "import itertools\n",
    "from matplotlib import pyplot as plt"
   ]
  },
  {
   "cell_type": "code",
   "execution_count": 2,
   "metadata": {},
   "outputs": [
    {
     "name": "stderr",
     "output_type": "stream",
     "text": [
      "2023-11-20 22:40:32.936835: I tensorflow/core/platform/cpu_feature_guard.cc:182] This TensorFlow binary is optimized to use available CPU instructions in performance-critical operations.\n",
      "To enable the following instructions: AVX2 FMA, in other operations, rebuild TensorFlow with the appropriate compiler flags.\n",
      "2023-11-20 22:40:33.484576: W tensorflow/compiler/tf2tensorrt/utils/py_utils.cc:38] TF-TRT Warning: Could not find TensorRT\n"
     ]
    }
   ],
   "source": [
    "import tensorflow as tf\n",
    "from tensorflow import keras"
   ]
  },
  {
   "cell_type": "code",
   "execution_count": 3,
   "metadata": {},
   "outputs": [
    {
     "name": "stderr",
     "output_type": "stream",
     "text": [
      "2023-11-20 22:40:44.367533: E tensorflow/compiler/xla/stream_executor/cuda/cuda_driver.cc:268] failed call to cuInit: CUDA_ERROR_UNKNOWN: unknown error\n",
      "2023-11-20 22:40:44.367563: I tensorflow/compiler/xla/stream_executor/cuda/cuda_diagnostics.cc:168] retrieving CUDA diagnostic information for host: s4m-g531gt-ubuntu\n",
      "2023-11-20 22:40:44.367569: I tensorflow/compiler/xla/stream_executor/cuda/cuda_diagnostics.cc:175] hostname: s4m-g531gt-ubuntu\n"
     ]
    },
    {
     "data": {
      "text/plain": [
       "[PhysicalDevice(name='/physical_device:CPU:0', device_type='CPU')]"
      ]
     },
     "execution_count": 3,
     "metadata": {},
     "output_type": "execute_result"
    },
    {
     "name": "stderr",
     "output_type": "stream",
     "text": [
      "2023-11-20 22:40:44.367660: I tensorflow/compiler/xla/stream_executor/cuda/cuda_diagnostics.cc:199] libcuda reported version is: 520.61.5\n",
      "2023-11-20 22:40:44.367677: I tensorflow/compiler/xla/stream_executor/cuda/cuda_diagnostics.cc:203] kernel reported version is: 520.61.5\n",
      "2023-11-20 22:40:44.367682: I tensorflow/compiler/xla/stream_executor/cuda/cuda_diagnostics.cc:309] kernel version seems to match DSO: 520.61.5\n"
     ]
    }
   ],
   "source": [
    "tf.config.list_physical_devices()"
   ]
  },
  {
   "cell_type": "markdown",
   "metadata": {},
   "source": [
    "# 1. Dataset"
   ]
  },
  {
   "cell_type": "code",
   "execution_count": null,
   "metadata": {},
   "outputs": [],
   "source": [
    "data_path = os.path.join('face_dataset')"
   ]
  },
  {
   "cell_type": "code",
   "execution_count": null,
   "metadata": {},
   "outputs": [],
   "source": [
    "IMG_SIZE = 128\n",
    "INPUT_SHAPE = (IMG_SIZE, IMG_SIZE, 3)\n",
    "BUFFER_SIZE = 123\n",
    "BATCH_SIZE = 32"
   ]
  },
  {
   "cell_type": "code",
   "execution_count": null,
   "metadata": {},
   "outputs": [],
   "source": [
    "def create_positive_pairs(dataset_path):\n",
    "    positive_pairs = []\n",
    "    for person_folder in os.listdir(dataset_path):\n",
    "        images = os.listdir(os.path.join(dataset_path, person_folder))\n",
    "        pairs = list(itertools.combinations(images, 2))\n",
    "        positive_pairs.extend([(person_folder, pair[0], person_folder, pair[1]) for pair in pairs])\n",
    "    return np.array(positive_pairs)"
   ]
  },
  {
   "cell_type": "code",
   "execution_count": null,
   "metadata": {},
   "outputs": [],
   "source": [
    "def create_negative_pairs(dataset_path, positive_pairs, len_list):\n",
    "    negative_pairs = []\n",
    "\n",
    "    for i in range(len(positive_pairs)):\n",
    "        person_1, img_1, _, _ = positive_pairs[i]\n",
    "\n",
    "        person_2 = 'person_' + str(np.random.randint(0, 104))\n",
    "        while person_2 == person_1:\n",
    "            person_2 = 'person_' + str(np.random.randint(0, 104))\n",
    "\n",
    "        img_2 = 'img_' + str(np.random.randint(0, len_list[int(person_2.split('_')[-1])]))\n",
    "        negative_pairs.append((person_1, img_1, person_2, img_2))\n",
    "    return np.array(negative_pairs)"
   ]
  },
  {
   "cell_type": "code",
   "execution_count": null,
   "metadata": {},
   "outputs": [],
   "source": [
    "def load_and_preprocess_image(image_path):\n",
    "    byte_img = tf.io.read_file(image_path)\n",
    "    img = tf.io.decode_jpeg(byte_img)\n",
    "    img = tf.image.resize(img, (IMG_SIZE, IMG_SIZE))\n",
    "    img = img / 255.0\n",
    "    return img"
   ]
  },
  {
   "cell_type": "code",
   "execution_count": null,
   "metadata": {},
   "outputs": [],
   "source": [
    "def preprocess_and_create_example(person_1, img_1, person_2, img_2, dataset_path):\n",
    "    image_1 = load_and_preprocess_image(os.path.join(dataset_path, person_1, img_1))\n",
    "    image_2 = load_and_preprocess_image(os.path.join(dataset_path, person_2, img_2))\n",
    "    \n",
    "    label = int(person_1 == person_2)\n",
    "    \n",
    "    return ((image_1, image_2), label)"
   ]
  },
  {
   "cell_type": "code",
   "execution_count": null,
   "metadata": {},
   "outputs": [],
   "source": [
    "def create_dataset(dataset_path):\n",
    "    positive = create_positive_pairs(dataset_path)\n",
    "    len_dataset = 2 * len(positive)\n",
    "    \n",
    "    len_list = []\n",
    "    for i in range(104):\n",
    "        len_list.append(len(os.listdir(os.path.join(dataset_path, 'person_' + str(i)))))\n",
    "\n",
    "    def generator():\n",
    "        negative = create_negative_pairs(dataset_path, positive, len_list)\n",
    "        data_pairs = np.concatenate((positive, negative), axis=0)\n",
    "        np.random.shuffle(data_pairs)\n",
    "        \n",
    "        for person_1, img_1, person_2, img_2 in data_pairs:\n",
    "            yield preprocess_and_create_example(person_1, img_1, person_2, img_2, dataset_path)\n",
    "\n",
    "    output_signature = (\n",
    "        (tf.TensorSpec(shape=INPUT_SHAPE, dtype=tf.float32),\n",
    "        tf.TensorSpec(shape=INPUT_SHAPE, dtype=tf.float32)),\n",
    "        tf.TensorSpec(shape=(), dtype=tf.float32)\n",
    "    )\n",
    "\n",
    "    tf_dataset = tf.data.Dataset.from_generator(generator, output_signature=output_signature)\n",
    "    return tf_dataset, len_dataset"
   ]
  },
  {
   "cell_type": "code",
   "execution_count": null,
   "metadata": {},
   "outputs": [],
   "source": [
    "dataset, dataset_size = create_dataset(data_path)"
   ]
  },
  {
   "cell_type": "code",
   "execution_count": null,
   "metadata": {
    "scrolled": true
   },
   "outputs": [],
   "source": [
    "for x in dataset.take(1):\n",
    "    print(x)"
   ]
  },
  {
   "cell_type": "code",
   "execution_count": null,
   "metadata": {},
   "outputs": [],
   "source": [
    "train = dataset.take(int(0.9 * dataset_size))\n",
    "dev = dataset.skip(int(0.9 * dataset_size)).take(int(0.05 * dataset_size))\n",
    "test = dataset.skip(int(0.9 * dataset_size)).skip(int(0.05 * dataset_size))"
   ]
  },
  {
   "cell_type": "code",
   "execution_count": null,
   "metadata": {},
   "outputs": [],
   "source": [
    "train = train.shuffle(BUFFER_SIZE)\n",
    "dev = dev.shuffle(BUFFER_SIZE)"
   ]
  },
  {
   "cell_type": "code",
   "execution_count": null,
   "metadata": {},
   "outputs": [],
   "source": [
    "train = train.batch(BATCH_SIZE).prefetch(tf.data.AUTOTUNE)\n",
    "dev = dev.batch(BATCH_SIZE).prefetch(tf.data.AUTOTUNE)\n",
    "test = test.batch(BATCH_SIZE)"
   ]
  },
  {
   "cell_type": "code",
   "execution_count": null,
   "metadata": {},
   "outputs": [],
   "source": [
    "for x, y in train.take(1):\n",
    "    print(x)"
   ]
  },
  {
   "cell_type": "code",
   "execution_count": null,
   "metadata": {},
   "outputs": [],
   "source": [
    "def make_mobile_model(input_shape, embeddingDim=64):\n",
    "    mobile_net = keras.applications.MobileNetV3Small(\n",
    "        input_shape=input_shape,\n",
    "        include_top=False,\n",
    "        weights='imagenet'\n",
    "    )\n",
    "    mobile_net.trainable = False\n",
    "    flatten = keras.layers.Flatten()(mobile_net.output)\n",
    "    dense = keras.layers.Dense(512, activation='relu')(flatten)\n",
    "    \n",
    "    model = keras.models.Model(inputs=mobile_net.input, outputs=dense)\n",
    "    return model"
   ]
  },
  {
   "cell_type": "code",
   "execution_count": null,
   "metadata": {},
   "outputs": [],
   "source": [
    "def create_siamese_model(input_shape):\n",
    "    input_1 = keras.layers.Input(shape=input_shape)\n",
    "    input_2 = keras.layers.Input(shape=input_shape)\n",
    "\n",
    "    siamese_network = make_mobile_model(input_shape)\n",
    "    encoded_1 = siamese_network(input_1)\n",
    "    encoded_2 = siamese_network(input_2)\n",
    "\n",
    "    distance = tf.abs(tf.subtract(encoded_1, encoded_2))\n",
    "\n",
    "    output = keras.layers.Dense(1, activation='sigmoid')(distance)\n",
    "\n",
    "    siamese_model = keras.models.Model(inputs=[input_1, input_2], outputs=output)\n",
    "\n",
    "    return siamese_model"
   ]
  },
  {
   "cell_type": "code",
   "execution_count": null,
   "metadata": {
    "scrolled": false
   },
   "outputs": [],
   "source": [
    "model = create_siamese_model(INPUT_SHAPE)\n",
    "model.summary()"
   ]
  },
  {
   "cell_type": "code",
   "execution_count": null,
   "metadata": {},
   "outputs": [],
   "source": [
    "METRICS = [\n",
    "    keras.metrics.BinaryAccuracy(),\n",
    "    keras.metrics.F1Score(),\n",
    "    keras.metrics.Precision(),\n",
    "    keras.metrics.Recall()\n",
    "]"
   ]
  },
  {
   "cell_type": "code",
   "execution_count": null,
   "metadata": {},
   "outputs": [],
   "source": [
    "model.compile(\n",
    "    optimizer='adam',\n",
    "    loss=keras.losses.BinaryCrossentropy(),\n",
    "    metrics=METRICS\n",
    ")"
   ]
  },
  {
   "cell_type": "code",
   "execution_count": null,
   "metadata": {},
   "outputs": [],
   "source": [
    "hist = model.fit(\n",
    "    train,\n",
    "    epochs=10,\n",
    "    verbose=1,\n",
    "    validation_data=dev\n",
    ")"
   ]
  },
  {
   "cell_type": "code",
   "execution_count": null,
   "metadata": {},
   "outputs": [],
   "source": []
  },
  {
   "cell_type": "code",
   "execution_count": null,
   "metadata": {},
   "outputs": [],
   "source": []
  },
  {
   "cell_type": "code",
   "execution_count": null,
   "metadata": {},
   "outputs": [],
   "source": []
  }
 ],
 "metadata": {
  "kernelspec": {
   "display_name": "Python 3.9 (tensorflow)",
   "language": "python",
   "name": "tensorflow"
  },
  "language_info": {
   "codemirror_mode": {
    "name": "ipython",
    "version": 3
   },
   "file_extension": ".py",
   "mimetype": "text/x-python",
   "name": "python",
   "nbconvert_exporter": "python",
   "pygments_lexer": "ipython3",
   "version": "3.9.18"
  }
 },
 "nbformat": 4,
 "nbformat_minor": 4
}
