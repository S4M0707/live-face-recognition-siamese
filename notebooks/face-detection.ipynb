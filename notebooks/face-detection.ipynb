{
 "cells": [
  {
   "cell_type": "code",
   "execution_count": 1,
   "id": "345a1c04",
   "metadata": {},
   "outputs": [],
   "source": [
    "import cv2\n",
    "import os\n",
    "import pandas as pd\n",
    "import numpy as np\n",
    "import matplotlib.pyplot as plt"
   ]
  },
  {
   "cell_type": "code",
   "execution_count": 2,
   "id": "8669bd69",
   "metadata": {},
   "outputs": [],
   "source": [
    "def divide_dataset(pth):\n",
    "    person_lst = os.listdir(pth)\n",
    "    for person in range(len(person_lst)):\n",
    "        person_pth = os.path.join(pth, person_lst[person])\n",
    "        img_list = os.listdir(person_pth)\n",
    "        img_list_size = len(img_list)\n",
    "        \n",
    "        dev_size = int(0.1 * img_list_size)\n",
    "        if dev_size < 2:\n",
    "            dev_size = 2\n",
    "        test_size = dev_size\n",
    "        train_size = img_list_size - 2 * dev_size\n",
    "        \n",
    "        train_pth = os.path.join('dataset', 'train', str(person))\n",
    "        dev_pth = os.path.join('dataset', 'dev', str(person))\n",
    "        test_pth = os.path.join('dataset', 'test', str(person))\n",
    "        os.mkdir(train_pth)\n",
    "        os.mkdir(dev_pth)\n",
    "        os.mkdir(test_pth)\n",
    "        \n",
    "        j = 0\n",
    "        k = 0\n",
    "        l = 0\n",
    "        for i in range(img_list_size):\n",
    "            img_pth = os.path.join(person_pth, img_list[i])\n",
    "#             print(img_pth)\n",
    "            if i < train_size:\n",
    "                new_pth = os.path.join(train_pth, str(j) + '.jpg')\n",
    "                j += 1\n",
    "                os.rename(img_pth, new_pth)\n",
    "            elif i < train_size + dev_size:\n",
    "                new_pth = os.path.join(dev_pth, str(k) + '.jpg')\n",
    "                k += 1\n",
    "                os.rename(img_pth, new_pth)\n",
    "            else:\n",
    "                new_pth = os.path.join(test_pth, str(l) + '.jpg')\n",
    "                l += 1\n",
    "                os.rename(img_pth, new_pth)"
   ]
  },
  {
   "cell_type": "code",
   "execution_count": 3,
   "id": "a6b6d956",
   "metadata": {},
   "outputs": [],
   "source": [
    "divide_dataset('face_dataset')"
   ]
  },
  {
   "cell_type": "code",
   "execution_count": null,
   "id": "337e5a31",
   "metadata": {},
   "outputs": [],
   "source": [
    "def create_face_dataset(lst):\n",
    "    face_cascade = cv2.CascadeClassifier(cv2.data.haarcascades + 'haarcascade_frontalface_default.xml')\n",
    "    \n",
    "    error_list = []\n",
    "    count = 1\n",
    "    for path in lst:\n",
    "        img = cv2.imread(path)\n",
    "        \n",
    "        faces = face_cascade.detectMultiScale(img, scaleFactor=1.01)\n",
    "        if len(faces) == 0:\n",
    "            error_list.append(path)\n",
    "            continue\n",
    "            \n",
    "        i = 0\n",
    "        for (x, y, w, h) in faces:\n",
    "            face_roi = img[y:y + h, x:x + w]\n",
    "            \n",
    "            face_img_path = os.path.join(\n",
    "                'faces_dataset', \n",
    "                path.split('/')[1], \n",
    "                path.split('/')[-1].split('.')[0] + '_' +str(i) + '.jpg'\n",
    "            )\n",
    "            i += 1\n",
    "            cv2.imwrite(face_img_path, face_roi)\n",
    "            \n",
    "        print(count, '/', len(lst), '-> Done')\n",
    "        count += 1\n",
    "            \n",
    "    return error_list"
   ]
  },
  {
   "cell_type": "code",
   "execution_count": null,
   "id": "59f96fbb",
   "metadata": {},
   "outputs": [],
   "source": [
    "def get_dataset_path(data_dir):\n",
    "    pth_lst = []\n",
    "    dataset = os.path.join(data_dir)\n",
    "    for person in os.listdir(dataset):\n",
    "        person_path = os.path.join(dataset, person)\n",
    "        for img in os.listdir(person_path):\n",
    "            img_pth = os.path.join(person_path, img)\n",
    "            pth_lst.append(img_pth)\n",
    "    return pth_lst"
   ]
  },
  {
   "cell_type": "code",
   "execution_count": null,
   "id": "b5fa6fb0",
   "metadata": {},
   "outputs": [],
   "source": [
    "pth_list = get_dataset_path('dataset')\n",
    "pth_list"
   ]
  },
  {
   "cell_type": "code",
   "execution_count": null,
   "id": "357c4a74",
   "metadata": {},
   "outputs": [],
   "source": [
    "pth_list = create_face_dataset(pth_list)"
   ]
  }
 ],
 "metadata": {
  "kernelspec": {
   "display_name": "Python 3.9 (tensorflow)",
   "language": "python",
   "name": "tensorflow"
  },
  "language_info": {
   "codemirror_mode": {
    "name": "ipython",
    "version": 3
   },
   "file_extension": ".py",
   "mimetype": "text/x-python",
   "name": "python",
   "nbconvert_exporter": "python",
   "pygments_lexer": "ipython3",
   "version": "3.9.18"
  }
 },
 "nbformat": 4,
 "nbformat_minor": 5
}
