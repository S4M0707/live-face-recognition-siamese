{
 "cells": [
  {
   "cell_type": "code",
   "execution_count": null,
   "id": "345a1c04",
   "metadata": {},
   "outputs": [],
   "source": [
    "import cv2\n",
    "import os\n",
    "import pandas as pd\n",
    "import numpy as np\n",
    "import matplotlib.pyplot as plt"
   ]
  },
  {
   "cell_type": "code",
   "execution_count": null,
   "id": "337e5a31",
   "metadata": {},
   "outputs": [],
   "source": [
    "def create_face_dataset(lst):\n",
    "    face_cascade = cv2.CascadeClassifier(cv2.data.haarcascades + 'haarcascade_frontalface_default.xml')\n",
    "    \n",
    "    error_list = []\n",
    "    count = 1\n",
    "    for path in lst:\n",
    "        img = cv2.imread(path)\n",
    "        \n",
    "        faces = face_cascade.detectMultiScale(img, scaleFactor=1.01)\n",
    "        if len(faces) == 0:\n",
    "            error_list.append(path)\n",
    "            continue\n",
    "            \n",
    "        i = 0\n",
    "        for (x, y, w, h) in faces:\n",
    "            face_roi = img[y:y + h, x:x + w]\n",
    "            \n",
    "            face_img_path = os.path.join(\n",
    "                'faces_dataset', \n",
    "                path.split('/')[1], \n",
    "                path.split('/')[-1].split('.')[0] + '_' +str(i) + '.jpg'\n",
    "            )\n",
    "            i += 1\n",
    "            cv2.imwrite(face_img_path, face_roi)\n",
    "            \n",
    "        print(count, '/', len(lst), '-> Done')\n",
    "        count += 1\n",
    "            \n",
    "    return error_list"
   ]
  },
  {
   "cell_type": "code",
   "execution_count": null,
   "id": "59f96fbb",
   "metadata": {},
   "outputs": [],
   "source": [
    "def get_dataset_path(data_dir):\n",
    "    pth_lst = []\n",
    "    dataset = os.path.join(data_dir)\n",
    "    for person in os.listdir(dataset):\n",
    "        person_path = os.path.join(dataset, person)\n",
    "        for img in os.listdir(person_path):\n",
    "            img_pth = os.path.join(person_path, img)\n",
    "            pth_lst.append(img_pth)\n",
    "    return pth_lst"
   ]
  },
  {
   "cell_type": "code",
   "execution_count": null,
   "id": "b5fa6fb0",
   "metadata": {},
   "outputs": [],
   "source": [
    "pth_list = get_dataset_path('dataset')\n",
    "pth_list"
   ]
  },
  {
   "cell_type": "code",
   "execution_count": null,
   "id": "357c4a74",
   "metadata": {},
   "outputs": [],
   "source": [
    "pth_list = create_face_dataset(pth_list)"
   ]
  }
 ],
 "metadata": {
  "kernelspec": {
   "display_name": "Python 3.9 (tensorflow)",
   "language": "python",
   "name": "tensorflow"
  },
  "language_info": {
   "codemirror_mode": {
    "name": "ipython",
    "version": 3
   },
   "file_extension": ".py",
   "mimetype": "text/x-python",
   "name": "python",
   "nbconvert_exporter": "python",
   "pygments_lexer": "ipython3",
   "version": "3.9.18"
  }
 },
 "nbformat": 4,
 "nbformat_minor": 5
}
